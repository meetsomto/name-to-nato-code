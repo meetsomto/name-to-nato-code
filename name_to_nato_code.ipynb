{
  "nbformat": 4,
  "nbformat_minor": 0,
  "metadata": {
    "colab": {
      "name": "name-to-nato-code.ipynb",
      "provenance": [],
      "authorship_tag": "ABX9TyOd/q0xmomcDpmtLIotZrW5",
      "include_colab_link": true
    },
    "kernelspec": {
      "name": "python3",
      "display_name": "Python 3"
    },
    "language_info": {
      "name": "python"
    }
  },
  "cells": [
    {
      "cell_type": "markdown",
      "metadata": {
        "id": "view-in-github",
        "colab_type": "text"
      },
      "source": [
        "<a href=\"https://colab.research.google.com/github/meetsomto/name-to-nato-code/blob/main/name_to_nato_code.ipynb\" target=\"_parent\"><img src=\"https://colab.research.google.com/assets/colab-badge.svg\" alt=\"Open In Colab\"/></a>"
      ]
    },
    {
      "cell_type": "markdown",
      "metadata": {
        "id": "TOINBbt9sM2s"
      },
      "source": [
        "\n",
        "# name-to-nato-code Converter (ipynb)\n",
        "I use it for work, sometimes.\n",
        "\n",
        "---\n",
        "\n",
        "\n",
        "\n",
        "Converts any name (max 4 words, numbers allowed in words) to NATO phonetic codes."
      ]
    },
    {
      "cell_type": "markdown",
      "metadata": {
        "id": "PjfHaqawsd1C"
      },
      "source": [
        "## Import Package"
      ]
    },
    {
      "cell_type": "code",
      "metadata": {
        "id": "SHXRIH9YsNp2"
      },
      "source": [
        "import pandas as pd"
      ],
      "execution_count": null,
      "outputs": []
    },
    {
      "cell_type": "markdown",
      "metadata": {
        "id": "QFyComagsxZn"
      },
      "source": [
        "## Read Data containing NATO phonetic codes\n"
      ]
    },
    {
      "cell_type": "code",
      "metadata": {
        "id": "_7HW8UXGsgtO"
      },
      "source": [
        "data = pd.read_csv(\"nato_phonetic_alphabet.csv\")"
      ],
      "execution_count": null,
      "outputs": []
    },
    {
      "cell_type": "markdown",
      "metadata": {
        "id": "DE1xgbabs_-R"
      },
      "source": [
        "## Create a dictionary of codes\n"
      ]
    },
    {
      "cell_type": "code",
      "metadata": {
        "id": "J9ApH-Ris0L-"
      },
      "source": [
        "phonetic_dict = {\n",
        "    row.letter: row.code for (index, row) in data.iterrows()\n",
        "}\n"
      ],
      "execution_count": null,
      "outputs": []
    },
    {
      "cell_type": "markdown",
      "metadata": {
        "id": "FkSmHsk-tv6m"
      },
      "source": [
        "## Convert words to NATO alphabet codes"
      ]
    },
    {
      "cell_type": "code",
      "metadata": {
        "colab": {
          "base_uri": "https://localhost:8080/"
        },
        "id": "wvZCt-sGtFqc",
        "outputId": "0ff617cc-1e90-491d-ce0e-5312c2069945"
      },
      "source": [
        "def name_to_code(name):\n",
        "    \"\"\"Convert words to NATO alphabet codes, no args\"\"\"\n",
        "\n",
        "    if len(name) == 0:\n",
        "        print(\"Please make an entry\")\n",
        "    else:\n",
        "\n",
        "        word = name.upper()\n",
        "        spaced_words = word.split()\n",
        "\n",
        "        number_of_words = len(spaced_words)\n",
        "\n",
        "\n",
        "\n",
        "        for n in range(0, number_of_words):\n",
        "            if number_of_words > 1:\n",
        "                result_title = f\"Word {n + 1}: {(spaced_words[n]).title()}\"\n",
        "                print(result_title)\n",
        "            else:\n",
        "                result_title = f'Word: {word.title()}'\n",
        "                print(result_title)\n",
        "\n",
        "            try:\n",
        "                output_list = [phonetic_dict[letter] for letter in spaced_words[n]]\n",
        "            except KeyError as error_prompt:\n",
        "                print(f\"Oops! Please remove {error_prompt}\")\n",
        "            else:\n",
        "              print(output_list, \"\\n\")\n",
        "\n",
        "name = input(\"Enter a name or space-seperated names: \")\n",
        "name_to_code(name)\n"
      ],
      "execution_count": 10,
      "outputs": [
        {
          "output_type": "stream",
          "name": "stdout",
          "text": [
            "Enter a name or space-seperated names: Dimitry Medvedev II\n",
            "Word 1: Dimitry\n",
            "['Delta', 'India', 'Mike', 'India', 'Tango', 'Romeo', 'Yankee'] \n",
            "\n",
            "Word 2: Medvedev\n",
            "['Mike', 'Echo', 'Delta', 'Victor', 'Echo', 'Delta', 'Echo', 'Victor'] \n",
            "\n",
            "Word 3: Ii\n",
            "['India', 'India'] \n",
            "\n"
          ]
        }
      ]
    },
    {
      "cell_type": "code",
      "metadata": {
        "id": "yvdmDko59t-L"
      },
      "source": [
        ""
      ],
      "execution_count": null,
      "outputs": []
    }
  ]
}